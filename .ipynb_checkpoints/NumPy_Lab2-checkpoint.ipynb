{
 "cells": [
  {
   "cell_type": "markdown",
   "id": "5ffb93ae",
   "metadata": {},
   "source": [
    "# Q1: Import numpy library"
   ]
  },
  {
   "cell_type": "code",
   "execution_count": 1,
   "id": "936d4703",
   "metadata": {
    "tags": []
   },
   "outputs": [],
   "source": [
    "import numpy as np"
   ]
  },
  {
   "cell_type": "markdown",
   "id": "b6991a89",
   "metadata": {},
   "source": [
    "# Q2: Generate a sequence of 15 floats using linspace() function"
   ]
  },
  {
   "cell_type": "code",
   "execution_count": 3,
   "id": "43bf04a5",
   "metadata": {
    "tags": []
   },
   "outputs": [
    {
     "data": {
      "text/plain": [
       "array([ 1.        ,  3.07142857,  5.14285714,  7.21428571,  9.28571429,\n",
       "       11.35714286, 13.42857143, 15.5       , 17.57142857, 19.64285714,\n",
       "       21.71428571, 23.78571429, 25.85714286, 27.92857143, 30.        ])"
      ]
     },
     "execution_count": 3,
     "metadata": {},
     "output_type": "execute_result"
    }
   ],
   "source": [
    "a = np.linspace(1, 30, num = 15)\n",
    "a"
   ]
  },
  {
   "cell_type": "markdown",
   "id": "7144bba8",
   "metadata": {},
   "source": [
    "# Q3: Create a 3-D array in shape (2, 2, 3) containing the four arrays given below \n",
    "Note : the array's name is up to you.\n",
    "\n",
    "|      |       |          |         |\n",
    "|------| ----- | -------- | ------- |\n",
    "|arr1 | 1.1    | 2.1       | 3.1        |\n",
    "|arr2 | 4.1    | 5.1       | 6.1        |\n",
    "|arr3 | 7.1    | 8.1       | 9.1        |\n",
    "|arr4 | 10.1   | 11.1      | 12.1       |"
   ]
  },
  {
   "cell_type": "code",
   "execution_count": 6,
   "id": "c1c3f9dc",
   "metadata": {
    "tags": []
   },
   "outputs": [
    {
     "data": {
      "text/plain": [
       "array([[[ 1.1,  2.1,  3.1],\n",
       "        [ 4.1,  5.1,  6.1]],\n",
       "\n",
       "       [[ 7.1,  8.1,  9.1],\n",
       "        [10.1, 11.1, 12.1]]])"
      ]
     },
     "execution_count": 6,
     "metadata": {},
     "output_type": "execute_result"
    }
   ],
   "source": [
    "b = np.array([[[1.1, 2.1, 3.1],[4.1, 5.1, 6.1]], [[7.1, 8.1, 9.1], [10.1, 11.1, 12.1]]])\n",
    "b"
   ]
  },
  {
   "cell_type": "code",
   "execution_count": 7,
   "id": "b613dbcd-b906-41e5-9bcc-da8f95664d0e",
   "metadata": {
    "tags": []
   },
   "outputs": [
    {
     "data": {
      "text/plain": [
       "(2, 2, 3)"
      ]
     },
     "execution_count": 7,
     "metadata": {},
     "output_type": "execute_result"
    }
   ],
   "source": [
    "b.shape"
   ]
  },
  {
   "cell_type": "markdown",
   "id": "807acbf6",
   "metadata": {},
   "source": [
    "# Q4: Print the following:\n",
    "Note: use the same array from Q3.\n",
    "- Array's type.\n",
    "- Array's elements datatype.\n",
    "- Array's shape.\n",
    "- Array's size.\n",
    "- Array's dimention."
   ]
  },
  {
   "cell_type": "code",
   "execution_count": 8,
   "id": "6e90d6a0",
   "metadata": {
    "tags": []
   },
   "outputs": [
    {
     "name": "stdout",
     "output_type": "stream",
     "text": [
      "<class 'numpy.ndarray'>\n",
      "float64\n",
      "(2, 2, 3)\n",
      "12\n",
      "3\n"
     ]
    }
   ],
   "source": [
    "print(type(b))\n",
    "print(b.dtype)\n",
    "print(b.shape)\n",
    "print(b.size)\n",
    "print(b.ndim)"
   ]
  },
  {
   "cell_type": "markdown",
   "id": "db4958b5",
   "metadata": {},
   "source": [
    "# Q5:  Change the array dimention from 3-D to 4-D\n",
    "Note: use the same array from Q3.\n",
    "- Create a new array to hold the changes. \n",
    "- Print the new array's dimention and shape."
   ]
  },
  {
   "cell_type": "code",
   "execution_count": 10,
   "id": "e9f5c88c",
   "metadata": {
    "tags": []
   },
   "outputs": [
    {
     "name": "stdout",
     "output_type": "stream",
     "text": [
      "[[[[ 1.1]\n",
      "   [ 2.1]\n",
      "   [ 3.1]]\n",
      "\n",
      "  [[ 4.1]\n",
      "   [ 5.1]\n",
      "   [ 6.1]]]\n",
      "\n",
      "\n",
      " [[[ 7.1]\n",
      "   [ 8.1]\n",
      "   [ 9.1]]\n",
      "\n",
      "  [[10.1]\n",
      "   [11.1]\n",
      "   [12.1]]]]\n",
      "4\n",
      "(2, 2, 3, 1)\n"
     ]
    }
   ],
   "source": [
    "c = b.reshape(2, 2, 3, 1)\n",
    "print(c)\n",
    "print(c.ndim)\n",
    "print(c.shape)"
   ]
  },
  {
   "cell_type": "markdown",
   "id": "454f2504",
   "metadata": {},
   "source": [
    "# Q6: Change the array's elements datatype to integer  \n",
    "Note: use the same array from Q5.\n",
    "\n",
    "- Create a new array to hold the changes. \n",
    "- Print the new array."
   ]
  },
  {
   "cell_type": "code",
   "execution_count": 12,
   "id": "8135b045",
   "metadata": {
    "tags": []
   },
   "outputs": [
    {
     "data": {
      "text/plain": [
       "array([[[[ 1],\n",
       "         [ 2],\n",
       "         [ 3]],\n",
       "\n",
       "        [[ 4],\n",
       "         [ 5],\n",
       "         [ 6]]],\n",
       "\n",
       "\n",
       "       [[[ 7],\n",
       "         [ 8],\n",
       "         [ 9]],\n",
       "\n",
       "        [[10],\n",
       "         [11],\n",
       "         [12]]]], dtype=int64)"
      ]
     },
     "execution_count": 12,
     "metadata": {},
     "output_type": "execute_result"
    }
   ],
   "source": [
    "d = c.astype('int64')\n",
    "d"
   ]
  },
  {
   "cell_type": "markdown",
   "id": "ab90badc",
   "metadata": {},
   "source": [
    "# Q7: Print all array's elements using for loop\n",
    "Note: use the same array from Q6.\n",
    "\n",
    "Hint: use nditer()"
   ]
  },
  {
   "cell_type": "code",
   "execution_count": 13,
   "id": "a0d58d15",
   "metadata": {
    "tags": []
   },
   "outputs": [
    {
     "name": "stdout",
     "output_type": "stream",
     "text": [
      "1\n",
      "2\n",
      "3\n",
      "4\n",
      "5\n",
      "6\n",
      "7\n",
      "8\n",
      "9\n",
      "10\n",
      "11\n",
      "12\n"
     ]
    }
   ],
   "source": [
    "for x in np.nditer(d): \n",
    "    print(x)"
   ]
  },
  {
   "cell_type": "markdown",
   "id": "afa8b5f3",
   "metadata": {},
   "source": [
    "# Q8:  Print number 8 using array slicing\n",
    "Note: use the same array from Q6."
   ]
  },
  {
   "cell_type": "code",
   "execution_count": 14,
   "id": "6e12e2d7",
   "metadata": {
    "tags": []
   },
   "outputs": [
    {
     "data": {
      "text/plain": [
       "array([8], dtype=int64)"
      ]
     },
     "execution_count": 14,
     "metadata": {},
     "output_type": "execute_result"
    }
   ],
   "source": [
    "d[ d == 8 ]"
   ]
  },
  {
   "cell_type": "markdown",
   "id": "e2e71895",
   "metadata": {},
   "source": [
    "# Q9: Print number 5 and number 6 using array slicing\n",
    "Note: use the same array from Q6."
   ]
  },
  {
   "cell_type": "code",
   "execution_count": 16,
   "id": "c3218bcb",
   "metadata": {
    "tags": []
   },
   "outputs": [
    {
     "data": {
      "text/plain": [
       "array([5, 6], dtype=int64)"
      ]
     },
     "execution_count": 16,
     "metadata": {},
     "output_type": "execute_result"
    }
   ],
   "source": [
    "d[(d == 5) | ( d == 6 )]"
   ]
  },
  {
   "cell_type": "markdown",
   "id": "e5d63cd3",
   "metadata": {},
   "source": [
    "# Q10: Search for number 8 using where()\n",
    "Note: use the same array from Q6.\n",
    "\n",
    "Note: where() is only used with small data.\n",
    "\n",
    "*the output represents the path of the index that leads to number 8*"
   ]
  },
  {
   "cell_type": "code",
   "execution_count": 19,
   "id": "ddaf0146",
   "metadata": {
    "tags": []
   },
   "outputs": [
    {
     "name": "stdout",
     "output_type": "stream",
     "text": [
      "(array([1], dtype=int64), array([0], dtype=int64), array([1], dtype=int64), array([0], dtype=int64))\n"
     ]
    },
    {
     "data": {
      "text/plain": [
       "array([8], dtype=int64)"
      ]
     },
     "execution_count": 19,
     "metadata": {},
     "output_type": "execute_result"
    }
   ],
   "source": [
    "index = np.where(d == 8)\n",
    "print(index)\n",
    "d[index]"
   ]
  },
  {
   "cell_type": "markdown",
   "id": "c89f41ad",
   "metadata": {},
   "source": [
    "# Q11: Reshape the array as the following\n",
    "\n",
    "    array([[[ 1, 2],\n",
    "            [ 3,  4],\n",
    "            [ 5,  6]],\n",
    "\n",
    "           [[ 7,  8],\n",
    "            [ 9, 10],\n",
    "            [11, 12]]])\n",
    "            \n",
    " Note: use the same array from Q6."
   ]
  },
  {
   "cell_type": "code",
   "execution_count": 32,
   "id": "d9b632bd",
   "metadata": {
    "tags": []
   },
   "outputs": [
    {
     "data": {
      "text/plain": [
       "array([[[ 1,  2],\n",
       "        [ 3,  4],\n",
       "        [ 5,  6]],\n",
       "\n",
       "       [[ 7,  8],\n",
       "        [ 9, 10],\n",
       "        [11, 12]]], dtype=int64)"
      ]
     },
     "execution_count": 32,
     "metadata": {},
     "output_type": "execute_result"
    }
   ],
   "source": [
    "np.resize(d , (2, 3, 2))"
   ]
  },
  {
   "cell_type": "markdown",
   "id": "539c16b1",
   "metadata": {},
   "source": [
    "# Q12: Join the given arrays below \n",
    "    arr1 = np.array([['A', 'B'], ['E', 'F']])\n",
    "    arr2 = np.array([['C', 'D'], ['G', 'H']])\n",
    "## Q12.1: Join the arrays without specifying the axis "
   ]
  },
  {
   "cell_type": "code",
   "execution_count": 33,
   "id": "d6acdeaf",
   "metadata": {
    "tags": []
   },
   "outputs": [],
   "source": [
    "arr1 = np.array([['A', 'B'], ['E', 'F']])\n",
    "arr2 = np.array([['C', 'D'], ['G', 'H']])"
   ]
  },
  {
   "cell_type": "code",
   "execution_count": 38,
   "id": "89299049-af33-4538-9f30-7ac630766bc1",
   "metadata": {
    "tags": []
   },
   "outputs": [
    {
     "data": {
      "text/plain": [
       "array([['A', 'B'],\n",
       "       ['E', 'F'],\n",
       "       ['C', 'D'],\n",
       "       ['G', 'H']], dtype='<U1')"
      ]
     },
     "execution_count": 38,
     "metadata": {},
     "output_type": "execute_result"
    }
   ],
   "source": [
    "arr = np.concatenate((arr1, arr2))\n",
    "arr"
   ]
  },
  {
   "cell_type": "markdown",
   "id": "1a37dd47",
   "metadata": {},
   "source": [
    "# Q12.2: Join the arrays along rows with axis = 1 "
   ]
  },
  {
   "cell_type": "code",
   "execution_count": 39,
   "id": "b849658c",
   "metadata": {
    "tags": []
   },
   "outputs": [
    {
     "data": {
      "text/plain": [
       "array([['A', 'B', 'C', 'D'],\n",
       "       ['E', 'F', 'G', 'H']], dtype='<U1')"
      ]
     },
     "execution_count": 39,
     "metadata": {},
     "output_type": "execute_result"
    }
   ],
   "source": [
    "np.concatenate((arr1, arr2), axis=1)"
   ]
  },
  {
   "cell_type": "markdown",
   "id": "7296eecf",
   "metadata": {},
   "source": [
    "# Q13: Split the array into two arrays with axis = 1, each array should contain four arrays. \n",
    "Note: use the same array from Q12.1"
   ]
  },
  {
   "cell_type": "code",
   "execution_count": 40,
   "id": "7f7f5e49",
   "metadata": {
    "tags": []
   },
   "outputs": [
    {
     "data": {
      "text/plain": [
       "[array([['A'],\n",
       "        ['E'],\n",
       "        ['C'],\n",
       "        ['G']], dtype='<U1'),\n",
       " array([['B'],\n",
       "        ['F'],\n",
       "        ['D'],\n",
       "        ['H']], dtype='<U1')]"
      ]
     },
     "execution_count": 40,
     "metadata": {},
     "output_type": "execute_result"
    }
   ],
   "source": [
    "np.array_split(arr, 2, axis=1)"
   ]
  }
 ],
 "metadata": {
  "kernelspec": {
   "display_name": "Python 3 (ipykernel)",
   "language": "python",
   "name": "python3"
  },
  "language_info": {
   "codemirror_mode": {
    "name": "ipython",
    "version": 3
   },
   "file_extension": ".py",
   "mimetype": "text/x-python",
   "name": "python",
   "nbconvert_exporter": "python",
   "pygments_lexer": "ipython3",
   "version": "3.11.5"
  }
 },
 "nbformat": 4,
 "nbformat_minor": 5
}
